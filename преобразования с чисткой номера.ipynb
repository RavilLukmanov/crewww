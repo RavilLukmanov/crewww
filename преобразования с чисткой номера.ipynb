{
 "cells": [
  {
   "cell_type": "code",
   "execution_count": 3,
   "id": "2d6e0634-cc95-43d2-b76a-35c51827437b",
   "metadata": {},
   "outputs": [
    {
     "name": "stdout",
     "output_type": "stream",
     "text": [
      "Файлы успешно обработаны и сохранены!\n"
     ]
    }
   ],
   "source": [
    "import pandas as pd\n",
    "import re\n",
    "\n",
    "# Шаг 1. Прочитать таблицы\n",
    "file_path_1 = r\"C:\\Users\\Admin\\Desktop\\tasks\\result_with_cleaned_data.xlsx\"\n",
    "file_path_2 = r\"C:\\Users\\Admin\\Desktop\\tasks\\not in crm.xlsx\"\n",
    "file_path_3 = r\"C:\\Users\\Admin\\Desktop\\tasks\\CRM.xlsx\"\n",
    "\n",
    "# Прочитаем все файлы Excel\n",
    "df1 = pd.read_excel(file_path_1)\n",
    "df2 = pd.read_excel(file_path_2)\n",
    "df3 = pd.read_excel(file_path_3)\n",
    "\n",
    "# Шаг 2. Приведение номеров телефонов к единому формату (оставляем только цифры)\n",
    "def clean_phone_number(phone):\n",
    "    return re.sub(r'\\D', '', str(phone))\n",
    "\n",
    "df1['Номер телефона'] = df1['Номер телефона'].apply(clean_phone_number)\n",
    "df2['Номер телефона'] = df2['Номер телефона'].apply(clean_phone_number)\n",
    "df3['номер телефона (8-XXX-XXX-XX-XX) кандидата'] = df3['номер телефона (8-XXX-XXX-XX-XX) кандидата'].apply(clean_phone_number)\n",
    "\n",
    "# Шаг 3. Сравнение таблицы 1 с таблицей 3\n",
    "# Найдем все номера телефонов, которые есть в обеих таблицах\n",
    "phones_in_both = df1[df1['Номер телефона'].isin(df3['номер телефона (8-XXX-XXX-XX-XX) кандидата'])]\n",
    "\n",
    "# Создадим новый файл с удаленными строками\n",
    "df1_deleted = phones_in_both.copy()\n",
    "df1_cleaned = df1[~df1['Номер телефона'].isin(df3['номер телефона (8-XXX-XXX-XX-XX) кандидата'])]\n",
    "\n",
    "# Шаг 4. Сравнение таблицы 2 с таблицей 3\n",
    "phones_in_both_2 = df2[df2['Номер телефона'].isin(df3['номер телефона (8-XXX-XXX-XX-XX) кандидата'])]\n",
    "\n",
    "# Создадим новый файл с удаленными строками\n",
    "df2_deleted = phones_in_both_2.copy()\n",
    "df2_cleaned = df2[~df2['Номер телефона'].isin(df3['номер телефона (8-XXX-XXX-XX-XX) кандидата'])]\n",
    "\n",
    "# Шаг 5. Сравнение файлов df2_cleaned и df1_cleaned\n",
    "# Найдем совпадения по номерам телефонов\n",
    "phones_match_between_cleaned = df2_cleaned[df2_cleaned['Номер телефона'].isin(df1_cleaned['Номер телефона'])]\n",
    "\n",
    "# Шаг 6. Сохранение данных в Excel\n",
    "with pd.ExcelWriter(r\"C:\\Users\\Admin\\Desktop\\tasks\\result_with_cleaned_data_edited_by_crm.xlsx\") as writer:\n",
    "    df1_cleaned.to_excel(writer, index=False, sheet_name='result_cleaned')\n",
    "    df1_deleted.to_excel(writer, index=False, sheet_name='deleted')\n",
    "\n",
    "with pd.ExcelWriter(r\"C:\\Users\\Admin\\Desktop\\задача по консолиду и crm\\not in crm_edited_by_crm.xlsx\") as writer:\n",
    "    df2_cleaned.to_excel(writer, index=False, sheet_name='result_cleaned')\n",
    "    df2_deleted.to_excel(writer, index=False, sheet_name='deleted')\n",
    "    phones_match_between_cleaned.style.apply(lambda x: ['background-color: red' if x.name in phones_match_between_cleaned.index else '' for _ in x], axis=1).to_excel(writer, index=False, sheet_name='matches')\n",
    "\n",
    "print(\"Файлы успешно обработаны и сохранены!\")\n"
   ]
  },
  {
   "cell_type": "code",
   "execution_count": null,
   "id": "1d44a229-c6fb-4edf-9811-7b2cc109e7a8",
   "metadata": {},
   "outputs": [],
   "source": []
  }
 ],
 "metadata": {
  "kernelspec": {
   "display_name": "Python 3 (ipykernel)",
   "language": "python",
   "name": "python3"
  },
  "language_info": {
   "codemirror_mode": {
    "name": "ipython",
    "version": 3
   },
   "file_extension": ".py",
   "mimetype": "text/x-python",
   "name": "python",
   "nbconvert_exporter": "python",
   "pygments_lexer": "ipython3",
   "version": "3.12.5"
  }
 },
 "nbformat": 4,
 "nbformat_minor": 5
}
